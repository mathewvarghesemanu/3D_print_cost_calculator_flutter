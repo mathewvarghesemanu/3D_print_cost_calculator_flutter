{
  "cells": [
    {
      "cell_type": "markdown",
      "metadata": {
        "id": "view-in-github",
        "colab_type": "text"
      },
      "source": [
        "<a href=\"https://colab.research.google.com/github/mathewvarghesemanu/3D_print_cost_calculator_flutter/blob/main/creating_video_from_tSNE_plot.ipynb\" target=\"_parent\"><img src=\"https://colab.research.google.com/assets/colab-badge.svg\" alt=\"Open In Colab\"/></a>"
      ]
    },
    {
      "cell_type": "markdown",
      "metadata": {
        "id": "k2Yt0uiGZnM8"
      },
      "source": [
        "We will look at creating a video based on tSNE embeddings of images."
      ]
    },
    {
      "cell_type": "code",
      "source": [
        "# Mounting Google Drive\n",
        "from google.colab import drive\n",
        "drive.mount('./gdrive/')"
      ],
      "metadata": {
        "colab": {
          "base_uri": "https://localhost:8080/"
        },
        "id": "Vn4JHmtfaJtj",
        "outputId": "38d9963f-02c7-423d-9383-205a53a77eba"
      },
      "execution_count": null,
      "outputs": [
        {
          "output_type": "stream",
          "name": "stdout",
          "text": [
            "Drive already mounted at ./gdrive/; to attempt to forcibly remount, call drive.mount(\"./gdrive/\", force_remount=True).\n"
          ]
        }
      ]
    },
    {
      "cell_type": "markdown",
      "metadata": {
        "id": "RP-166q1ZnNA"
      },
      "source": [
        "## -1. Create a video from images\n",
        "Download any 1000 or more 'appropriate' and publicly available images from the web. This could be part of a data set or something specific that you picked up or are interested in.\n",
        "\n",
        "Apply the tSNE library to these images and construct low-dimensional embeddings for the images. Use these embeddings to then:\n",
        "\n",
        "a) Start at any random image in the data set \n",
        "\n",
        "b) Sequentially chain the next image to the previous image using a scoring function/probability based on the tSNE embedding. So you want to chain the most similar image to the current one and so on. Choose a frame rate that is appropriate to convert this chain of images into a video. Your video shouldn't be more than 3 minutes long.\n",
        "\n"
      ]
    },
    {
      "cell_type": "code",
      "source": [
        "# unzipping files. There is an option to choose multiple databases here.\n",
        "!unzip -q -o \"/content/gdrive/MyDrive/datasets/Face_Dataset/face_dataset.zip\"\n",
        "# !unzip -q -o \"/content/gdrive/MyDrive/datasets/Iris/flower_test-1.zip\"\n",
        "# !unzip -q -o \"/content/gdrive/MyDrive/datasets/mnist/archive.zip\"\n"
      ],
      "metadata": {
        "id": "H3btry1fa5tF"
      },
      "execution_count": null,
      "outputs": []
    },
    {
      "cell_type": "code",
      "source": [
        "# source for face data set : https://github.com/NVlabs/ffhq-dataset"
      ],
      "metadata": {
        "id": "h-ckS5aebVE9"
      },
      "execution_count": null,
      "outputs": []
    },
    {
      "cell_type": "code",
      "execution_count": null,
      "metadata": {
        "id": "PxmmyifxZnNB"
      },
      "outputs": [],
      "source": [
        "# imports\n",
        "import cv2\n",
        "import os\n",
        "import numpy as np\n",
        "import pandas as pd\n",
        "import matplotlib.pyplot as plt\n",
        "from scipy import ndimage, misc\n",
        "\n",
        "# choosing the image folder\n",
        "image_folder=\"/content/69000\"\n",
        "# image_folder=\"/content/flower_test/daisy\"\n",
        "# image_folder=\"/content/testSet/testSet\"\n",
        "\n",
        "# function to load images from the folder and return an array of images and an array of the file list\n",
        "def load_images_from_folder(folder):\n",
        "    images = []\n",
        "    file_list=[]\n",
        "    for filename in os.listdir(folder):\n",
        "        img = cv2.imread(os.path.join(folder,filename))\n",
        "        file_list.append(os.path.join(folder,filename))\n",
        "        if len(file_list)>1000:\n",
        "            break\n",
        "        img = cv2.resize(img, (128, 128)) \n",
        "        # img=cv2.cvtColor(img,cv2.COLOR_BGR2RGB)\n",
        "        if img is not None:\n",
        "            images.append(img)\n",
        "    return (np.array(images),file_list)\n",
        "\n",
        "# calling the function to receive array of images and array of file list\n",
        "(images,file_list)=load_images_from_folder(image_folder)\n",
        "images=np.array(images)"
      ]
    },
    {
      "cell_type": "code",
      "source": [
        "# Flattening the images in order to make it as a vector\n",
        "new_images=images.reshape(len(images),-1)\n",
        "new_images.shape"
      ],
      "metadata": {
        "colab": {
          "base_uri": "https://localhost:8080/"
        },
        "id": "yrc_AR9tcSLz",
        "outputId": "3902324e-69bc-416a-d68e-240da768398e"
      },
      "execution_count": null,
      "outputs": [
        {
          "output_type": "execute_result",
          "data": {
            "text/plain": [
              "(1000, 49152)"
            ]
          },
          "metadata": {},
          "execution_count": 6
        }
      ]
    },
    {
      "cell_type": "code",
      "source": [
        "# applying PCA with two n components\n",
        "from sklearn.decomposition import PCA\n",
        "pca = PCA(n_components=2)\n",
        "new_images_pca=pca.fit_transform(new_images) \n",
        "new_images_pca=new_images"
      ],
      "metadata": {
        "id": "zTyIMrhqdNrH"
      },
      "execution_count": null,
      "outputs": []
    },
    {
      "cell_type": "code",
      "execution_count": null,
      "metadata": {
        "colab": {
          "base_uri": "https://localhost:8080/"
        },
        "id": "E3Xe_BySZnND",
        "outputId": "132de271-e73f-4933-fa7b-31e0034a6076"
      },
      "outputs": [
        {
          "output_type": "execute_result",
          "data": {
            "text/plain": [
              "array([[  1.9086075,   2.9083486],\n",
              "       [  3.8320444,  18.54683  ],\n",
              "       [  9.185232 ,  -6.9704003],\n",
              "       ...,\n",
              "       [ 14.549579 ,  11.325017 ],\n",
              "       [  8.65042  , -10.568511 ],\n",
              "       [ -7.620551 ,  11.299672 ]], dtype=float32)"
            ]
          },
          "metadata": {},
          "execution_count": 8
        }
      ],
      "source": [
        "# Using TNSE\n",
        "from sklearn.manifold import TSNE\n",
        "X_embedded = TSNE(n_components=2, learning_rate='auto',init='random').fit_transform(new_images_pca)\n",
        "X_embedded"
      ]
    },
    {
      "cell_type": "code",
      "source": [
        "# plotting TNSE\n",
        "# scale and move the coordinates so they fit [0; 1] range\n",
        "def scale_to_01_range(x):\n",
        "    # compute the distribution range\n",
        "    value_range = (np.max(x) - np.min(x))\n",
        "\n",
        "    # move the distribution so that it starts from zero\n",
        "    # by extracting the minimal value from all its values\n",
        "    starts_from_zero = x - np.min(x)\n",
        "\n",
        "    # make the distribution fit [0; 1] by dividing by its range\n",
        "    return starts_from_zero / value_range\n",
        "\n",
        "# extract x and y coordinates representing the positions of the images on T-SNE plot\n",
        "tx = X_embedded[:, 0]\n",
        "ty = X_embedded[:, 1]\n",
        "\n",
        "tx = scale_to_01_range(tx)\n",
        "ty = scale_to_01_range(ty)"
      ],
      "metadata": {
        "id": "hGob1gi_d2Q9"
      },
      "execution_count": null,
      "outputs": []
    },
    {
      "cell_type": "code",
      "source": [
        "# scatter plot for TNSE\n",
        "plt.scatter(tx,ty)"
      ],
      "metadata": {
        "colab": {
          "base_uri": "https://localhost:8080/",
          "height": 282
        },
        "id": "E86HCYGj6db0",
        "outputId": "9283ebbc-f663-42c6-d314-14ec2bb99b7e"
      },
      "execution_count": null,
      "outputs": [
        {
          "output_type": "execute_result",
          "data": {
            "text/plain": [
              "<matplotlib.collections.PathCollection at 0x7fe546405250>"
            ]
          },
          "metadata": {},
          "execution_count": 10
        },
        {
          "output_type": "display_data",
          "data": {
            "image/png": "[encoded data removed]",
            "text/plain": [
              "<Figure size 432x288 with 1 Axes>"
            ]
          },
          "metadata": {
            "needs_background": "light"
          }
        }
      ]
    },
    {
      "cell_type": "code",
      "source": [
        "# Shape of the embedding that is received from the TNSE\n",
        "X_embedded.shape"
      ],
      "metadata": {
        "colab": {
          "base_uri": "https://localhost:8080/"
        },
        "id": "Lsbg38A86r-e",
        "outputId": "0f2b2ede-f4e5-4237-cbb4-0ad9f5cd0ffc"
      },
      "execution_count": null,
      "outputs": [
        {
          "output_type": "execute_result",
          "data": {
            "text/plain": [
              "(1000, 2)"
            ]
          },
          "metadata": {},
          "execution_count": 11
        }
      ]
    },
    {
      "cell_type": "code",
      "source": [
        "# Saving a copy of the file list and the embeddings for convenience\n",
        "file_list_old=file_list\n",
        "X_embedded_old=X_embedded"
      ],
      "metadata": {
        "id": "enGO5iqINi5C"
      },
      "execution_count": null,
      "outputs": []
    },
    {
      "cell_type": "code",
      "source": [
        "# Going through the images and finding the least distance between the images. Depending upon that, we append the next image to the image list and the next file to the file list\n",
        "X_embedded=X_embedded_old\n",
        "file_list=file_list_old\n",
        "# assigning X&Y\n",
        "x_new=X_embedded[0][0]\n",
        "y_new=X_embedded[0][1]\n",
        "# appending random element of the file list as the first file path for the final image\n",
        "file_list_ordered = []\n",
        "file_list_ordered.append(np.random.randint(0,len(file_list)))\n",
        "while True:\n",
        "   distance_matrix = {}\n",
        "#    finding distance between the current image and all other images\n",
        "   for i, j in enumerate(X_embedded):\n",
        "     dis = (j[0] - x_new)**2 + (j[1] - y_new)**2\n",
        "     distance_matrix[i] = dis\n",
        "#  sorting the distance between all the images in order for finding the minimum\n",
        "   sorted_list = sorted(distance_matrix.items(), key=lambda x: x[1])\n",
        "   temp=sorted_list[0][0]\n",
        "   file_list_ordered.append(file_list[temp])\n",
        "   x_new, y_new = X_embedded[temp][0], X_embedded[temp][1]\n",
        "#    Removing the images from the file list and the embedded list so that we don't traverse through the same images again\n",
        "   X_embedded = np.delete(X_embedded, temp, 0)\n",
        "   file_list.remove(file_list[temp])\n",
        "#    we exit out of the loop when all the vectors in the embedded space are traversed through\n",
        "   if X_embedded.size == 0:\n",
        "     break"
      ],
      "metadata": {
        "id": "ws3uMRRZHg9Y"
      },
      "execution_count": null,
      "outputs": []
    },
    {
      "cell_type": "code",
      "source": [
        "# Creating a list of images based on the final file list\n",
        "img_final_list=[]\n",
        "for item in file_list_ordered:\n",
        "    img_final_list.append(cv2.imread(item))\n",
        "len(img_final_list)"
      ],
      "metadata": {
        "colab": {
          "base_uri": "https://localhost:8080/"
        },
        "id": "eBRodLiyGWQ-",
        "outputId": "cc547283-ffbd-4444-99e9-a508c87c064a"
      },
      "execution_count": null,
      "outputs": [
        {
          "output_type": "execute_result",
          "data": {
            "text/plain": [
              "1001"
            ]
          },
          "metadata": {},
          "execution_count": 14
        }
      ]
    },
    {
      "cell_type": "code",
      "source": [
        "# Writing the images from the final file list into a video\n",
        "out = cv2.VideoWriter('project.avi',cv2.VideoWriter_fourcc(*'DIVX'), 15, (128,128))\n",
        "for item in img_final_list:\n",
        "    out.write(item)\n",
        "out.release()"
      ],
      "metadata": {
        "id": "Voy2d67Bgm9q"
      },
      "execution_count": null,
      "outputs": []
    },
    {
      "cell_type": "code",
      "source": [
        "# https://youtu.be/iDXXj3beCQc\n",
        "# please find the video on the link above. I have made video based on MNIST and faces data set, and stitched together in post processing. The text on the video (tSNE) is also added later"
      ],
      "metadata": {
        "id": "VmUzJiuhpgL6"
      },
      "execution_count": null,
      "outputs": []
    }
  ],
  "metadata": {
    "kernelspec": {
      "display_name": "Python 3 (ipykernel)",
      "language": "python",
      "name": "python3"
    },
    "language_info": {
      "codemirror_mode": {
        "name": "ipython",
        "version": 3
      },
      "file_extension": ".py",
      "mimetype": "text/x-python",
      "name": "python",
      "nbconvert_exporter": "python",
      "pygments_lexer": "ipython3",
      "version": "3.9.7"
    },
    "colab": {
      "name": "creating video from tSNE plot.ipynb",
      "provenance": [],
      "collapsed_sections": [],
      "machine_shape": "hm",
      "include_colab_link": true
    },
    "accelerator": "GPU"
  },
  "nbformat": 4,
  "nbformat_minor": 0
}